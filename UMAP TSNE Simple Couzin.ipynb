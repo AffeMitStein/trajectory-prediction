{
 "cells": [
  {
   "cell_type": "code",
   "execution_count": null,
   "metadata": {},
   "outputs": [],
   "source": [
    "%matplotlib inline\n",
    "\n",
    "import matplotlib\n",
    "import numpy as np\n",
    "import matplotlib.pyplot as plt"
   ]
  },
  {
   "cell_type": "code",
   "execution_count": null,
   "metadata": {},
   "outputs": [],
   "source": [
    "def iterate_data(data, batchsize, shuffle=False):\n",
    "    if shuffle:\n",
    "        indices = np.arange(data.shape[0])\n",
    "        np.random.shuffle(indices)\n",
    "    for start_idx in range(0, data.shape[0] - batchsize + 1, batchsize):\n",
    "        if shuffle:\n",
    "            excerpt = indices[start_idx:start_idx + batchsize]\n",
    "        else:\n",
    "            excerpt = slice(start_idx, start_idx + batchsize)\n",
    "        yield data[excerpt, :, :]"
   ]
  },
  {
   "cell_type": "code",
   "execution_count": null,
   "metadata": {},
   "outputs": [],
   "source": [
    "import torch\n",
    "import torch.nn as nn\n",
    "from torch.nn.utils import weight_norm\n",
    "from torch.autograd import Variable\n",
    "from torch.distributions import Categorical\n",
    "import numpy as np\n",
    "import math\n",
    "\n",
    "def log_sum_exp(x, dim=1):\n",
    "    x_max, x_argmax = x.max(dim, keepdim=True)\n",
    "    x_max_broadcast = x_max.expand(*x.size())\n",
    "    return x_max + torch.log(\n",
    "        torch.sum(torch.exp(x - x_max_broadcast), dim=dim, keepdim=True))\n",
    "\n",
    "class MDN(nn.Module):\n",
    "    \"\"\"A mixture density network layer\n",
    "    The input maps to the parameters of a MoG probability distribution, where\n",
    "    each Gaussian has O dimensions and diagonal covariance.\n",
    "    Arguments:\n",
    "        in_features (int): the number of dimensions in the input\n",
    "        out_features (int): the number of dimensions in the output\n",
    "        num_gaussians (int): the number of Gaussians per output dimensions\n",
    "    Input:\n",
    "        minibatch (BxD): B is the batch size and D is the number of input\n",
    "            dimensions.\n",
    "    Output:\n",
    "        (pi, sigma, mu) (BxG, BxGxO, BxGxO): B is the batch size, G is the\n",
    "            number of Gaussians, and O is the number of dimensions for each\n",
    "            Gaussian. Pi is a multinomial distribution of the Gaussians. Sigma\n",
    "            is the standard deviation of each Gaussian. Mu is the mean of each\n",
    "            Gaussian.\n",
    "    \"\"\"\n",
    "\n",
    "    def __init__(self, in_features, out_features, num_gaussians):\n",
    "        super(MDN, self).__init__()\n",
    "        self.in_features = in_features\n",
    "        self.out_features = out_features\n",
    "        self.num_gaussians = num_gaussians\n",
    "        self.pi = nn.Sequential(\n",
    "            nn.Linear(in_features, num_gaussians), nn.LogSoftmax(dim=1))\n",
    "        self.sigma = nn.Linear(in_features, out_features * num_gaussians)\n",
    "        self.mu = nn.Linear(in_features, out_features * num_gaussians)\n",
    "\n",
    "    def forward(self, minibatch):\n",
    "        pi = self.pi(minibatch)\n",
    "        sigma = self.sigma(minibatch)\n",
    "        # original sigma = torch.clamp(sigma, np.log(np.sqrt(1e-4)), 1e8)\n",
    "        # working \n",
    "        sigma =  torch.clamp(sigma, np.log(np.sqrt(1e-3)), 5e1)\n",
    "        #try 3 sigma = torch.clamp(sigma, np.log(np.sqrt(1e-3)), 1e4)\n",
    "        sigma = sigma.view(-1, self.num_gaussians, self.out_features)\n",
    "        mu = self.mu(minibatch)\n",
    "        mu = mu.view(-1, self.num_gaussians, self.out_features)\n",
    "        return pi, sigma, mu\n",
    "\n",
    "    @staticmethod\n",
    "    def gaussian_probability(sigma, x_mu, x):\n",
    "        \"\"\"Returns the probability of `data` given MoG parameters `sigma` and `mu`.\n",
    "        Arguments:\n",
    "            sigma (BxGxO): The standard deviation of the Gaussians. B is the batch\n",
    "                size, G is the number of Gaussians, and O is the number of\n",
    "                dimensions per Gaussian.\n",
    "            mu (BxGxO): The means of the Gaussians. B is the batch size, G is the\n",
    "                number of Gaussians, and O is the number of dimensions per Gaussian.\n",
    "            data (BxI): A batch of data. B is the batch size and I is the number of\n",
    "                input dimensions.\n",
    "        Returns:\n",
    "            probabilities (BxG): The probability of each point in the probability\n",
    "                of the distribution in the corresponding sigma/mu index.\n",
    "        \"\"\"\n",
    "        x = x.unsqueeze(1).expand_as(sigma)\n",
    "        var = (torch.exp(sigma)**2)\n",
    "        return -((x - x_mu)**2) / (2 * var + 1e-4) - sigma - math.log(\n",
    "            math.sqrt(2 * math.pi))\n",
    "\n",
    "    @staticmethod\n",
    "    def mdn_loss(pi, sigma, mu, target):\n",
    "        \"\"\"Calculates the error, given the MoG parameters and the target\n",
    "        The loss is the negative log likelihood of the data given the MoG\n",
    "        parameters.\n",
    "        \"\"\"\n",
    "        nll = log_sum_exp(pi[:, :, None] +\n",
    "                          MDN.gaussian_probability(sigma, mu, target))\n",
    "        nll = -torch.sum(nll, dim=-1)\n",
    "        return torch.mean(nll)\n",
    "\n",
    "    @staticmethod\n",
    "    def sample(pi, sigma, mu):\n",
    "        \"\"\"Draw samples from a MoG.\n",
    "        \"\"\"\n",
    "        categorical = Categorical(torch.exp(pi))\n",
    "        pis = list(categorical.sample().data)\n",
    "        sigma = torch.exp(sigma)\n",
    "        sample = Variable(\n",
    "            sigma.data.new(sigma.size(0), sigma.size(2)).normal_())\n",
    "        for i, idx in enumerate(pis):\n",
    "            sample[i] = sample[i].mul(sigma[i, idx]).add(mu[i, idx])\n",
    "        return sample"
   ]
  },
  {
   "cell_type": "code",
   "execution_count": null,
   "metadata": {},
   "outputs": [],
   "source": [
    "def initialize_weights(model):\n",
    "    if type(model) in [nn.Linear]:\n",
    "        nn.init.xavier_normal_(model.weight.data)\n",
    "    elif type(model) in [nn.LSTM, nn.RNN, nn.GRU]:\n",
    "        nn.init.xavier_normal_(model.weight_hh_l0)\n",
    "        nn.init.xavier_normal_(model.weight_ih_l0)"
   ]
  },
  {
   "cell_type": "code",
   "execution_count": null,
   "metadata": {},
   "outputs": [],
   "source": [
    "import torch.autograd as autograd\n",
    "\n",
    "class SimpleRNN(torch.nn.Module):\n",
    "    def __init__(self, n_features, n_outputs):\n",
    "        super(SimpleRNN, self).__init__()\n",
    "        # 32 was used for all the simulated data\n",
    "        #hidden_dim = 32 #\n",
    "        \n",
    "        hidden_dim = 128 #hidden_dim\n",
    "\n",
    "        #self.inp = torch.nn.Linear(n_features, hidden_size)\n",
    "        num_layers = 2\n",
    "        #self.rnn = LayerNormLSTM(n_features, hidden_dim, num_layers = num_layers)\n",
    "        self.rnn = torch.nn.LSTM(n_features, hidden_dim, num_layers = num_layers)\n",
    "        \n",
    "        # 64 was used for all the simulated data\n",
    "        #self.out = torch.nn.Linear(hidden_dim, 64)\n",
    "        \n",
    "        #self.out = torch.nn.Linear(hidden_dim, 32)\n",
    "        self.mdn = MDN(hidden_dim, n_outputs, 5)\n",
    "\n",
    "        \n",
    "        #self.hidden = None\n",
    "        \n",
    "        initialize_weights(self.rnn)\n",
    "        #initialize_weights(self.out)\n",
    "        initialize_weights(self.mdn)\n",
    "\n",
    "    def step(self, inputs, hidden=None, verbose=False):\n",
    "        #input = self.inp(input)\n",
    "        if verbose:\n",
    "            print(\"Step 0:\")\n",
    "            print(inputs.shape)\n",
    "        inputs = inputs.permute([1, 0, 2])\n",
    "        if verbose:\n",
    "            print(\"Step 1:\")\n",
    "            print(inputs.shape)\n",
    "        #self.rnn.flatten_parameters()\n",
    "        output, hidden = self.rnn(inputs, hidden)\n",
    "        output = output[-1, :, :] #output[:, :, :] #output[-1, :, :]\n",
    "        #output = output.permute([1, 0, 2])\n",
    "        if verbose:\n",
    "            print(\"Step 3:\")\n",
    "            print(output.shape)\n",
    "        output = output.squeeze()\n",
    "        if verbose:\n",
    "            print(\"Step 4:\")\n",
    "            print(output.shape)\n",
    "        #output = self.out(output)\n",
    "        if verbose:\n",
    "            print(\"Step 5:\")\n",
    "            print(output.shape)\n",
    "            print(output)\n",
    "        output = self.mdn(output)\n",
    "        return output, hidden\n",
    "\n",
    "    def forward(self, inputs, hidden=None, verbose=False):\n",
    "        if verbose:\n",
    "            print(\"inputs size: \", inputs.size)\n",
    "        batch_size = inputs.size(0)    \n",
    "        output, hidden = self.step(inputs, hidden, verbose=verbose)\n",
    "        return output, hidden"
   ]
  },
  {
   "cell_type": "code",
   "execution_count": null,
   "metadata": {},
   "outputs": [],
   "source": [
    "vision_bins = 16\n",
    "#rnn = SimpleRNN(n_features=5 + (vision_bins * 8), n_outputs=4).cuda()\n",
    "rnn = SimpleRNN(n_features=5 +(vision_bins * 8), n_outputs=4).cuda()\n",
    "#rnn = torch.load('asd.pt')\n",
    "rnn = torch.load('couzinmodel-rnn.pt')\n",
    "rnn.eval()"
   ]
  },
  {
   "cell_type": "markdown",
   "metadata": {},
   "source": [
    "# T-SNE Simulation"
   ]
  },
  {
   "cell_type": "code",
   "execution_count": null,
   "metadata": {},
   "outputs": [],
   "source": [
    "import tables\n",
    "hdf5_file = tables.open_file('pathtofile.h5', mode='r')\n",
    "train = hdf5_file.root.train\n",
    "print(train.shape)\n",
    "labels = []\n",
    "for i in range(0, 5100):\n",
    "    batch_data = train[i, :, :]\n",
    "    print(batch_data[-1, 0:4])\n",
    "    #labels.append(np.where(np.array([1, 0, 1, 0]) == 1)) # np.where(batch_data[:, 0:4] == 1))\n",
    "    for l in  np.where(batch_data[-1, 0:4] == 1)[0]:\n",
    "        labels.append(l)\n",
    "        print(l)\n",
    "\n",
    "labels = np.asarray(labels)\n",
    "print(\"lshape\", labels.shape)\n",
    "\n",
    "unique, counts = np.unique(labels, return_counts=True)\n",
    "# array = np.array([self.getX(), self.getY(), self.orientation, 0.333, 0, 0, \n",
    "#                          0, dx, d<y, np.cos(self.orientation), np.sin(self.orientation)])\n",
    "#        self.history.append(np.concatenate([np.concatenate([self.label, array]), self.vision]))#\n",
    "\n",
    "print(\"labels: \", unique)\n",
    "print(\"counts: \", counts)\n",
    "hdf5_file.close()"
   ]
  },
  {
   "cell_type": "code",
   "execution_count": null,
   "metadata": {},
   "outputs": [],
   "source": [
    "plt.hist(labels)"
   ]
  },
  {
   "cell_type": "code",
   "execution_count": null,
   "metadata": {},
   "outputs": [],
   "source": [
    "for l in np.where(np.array([0, 0, 1, 0]) == 1)[0]:\n",
    "    print(l)"
   ]
  },
  {
   "cell_type": "code",
   "execution_count": null,
   "metadata": {},
   "outputs": [],
   "source": [
    "import tables \n",
    "import numpy as np\n",
    "import torch\n",
    "from IPython.display import clear_output\n",
    "\n",
    "hdf5_file = tables.open_file('pathtofile.h5', mode='r')\n",
    "# features; 0: age; 1 bee_id; rest: normal data\n",
    "train = hdf5_file.root.train\n",
    "print(train.shape)\n",
    "hidds = []\n",
    "labels = []\n",
    "labels_importance = []\n",
    "labels_wall = []\n",
    "labels_zoa = []\n",
    "labels_zoo = []\n",
    "labels_zor = []\n",
    "labels_normal = []\n",
    "printcounter = 0\n",
    "for i in range(0, 100000):\n",
    "    if (printcounter == 1000):\n",
    "        clear_output()\n",
    "        print('Progress report: ', i/100000)\n",
    "        printcounter = 0\n",
    "    printcounter += 1\n",
    "    batch_data = train[i, :, :]\n",
    "    label = batch_data[-1, :4]\n",
    "    #print(label)\n",
    "    #print(label[3])\n",
    "    p = 1 \n",
    "    if p >= np.random.uniform(0.0, 1.0):\n",
    "        batch_X = batch_data[:-1, 10:].astype(np.float32)[None, :, :]\n",
    "        batch_X = np.insert(batch_X,[1],batch_X[0],axis=0)\n",
    "        batch_X = torch.from_numpy(batch_X)\n",
    "        batch_X = torch.autograd.Variable(batch_X).cuda()\n",
    "        Y_predicted, hidden = rnn.forward(batch_X, verbose=False)\n",
    "        hidds.append(np.concatenate((hidden[0].data.cpu().numpy()[1, 0, :],hidden[1].data.cpu().numpy()[1, 0, :])))\n",
    "        if np.where(label == 1)[0].shape[0] > 1:\n",
    "            labels.append(np.where(label == 1)[0][1] + 1)\n",
    "        elif np.where(label == 1)[0].shape[0] > 0:\n",
    "            labels.append(np.where(label == 1)[0][0] + 1)\n",
    "        else:\n",
    "            labels.append(0)\n",
    "        #print(label)\n",
    "        if label[3] > 0:\n",
    "            labels_importance.append(3) #avoid wall\n",
    "        elif label[2] > 0:\n",
    "            labels_importance.append(2) #attraction zone filled\n",
    "        elif label[1] > 0:\n",
    "            labels_importance.append(1) #orientation zone\n",
    "        elif label[0]> 0:\n",
    "            labels_importance.append(0) #repulsion zone\n",
    "        else:\n",
    "            labels_importance.append(4) # no label -> normal walk\n",
    "            \n",
    "        #------------------------------------------------\n",
    "        labels_wall.append(label[3])\n",
    "        labels_zoa.append(label[2])\n",
    "        labels_zoo.append(label[1])\n",
    "        labels_zor.append(label[0])\n",
    "        if np.array_equal(label, np.array([0, 0, 0, 0])):\n",
    "            labels_normal.append(1)\n",
    "        else:\n",
    "            labels_normal.append(0)\n",
    "hdf5_file.close()"
   ]
  },
  {
   "cell_type": "code",
   "execution_count": null,
   "metadata": {},
   "outputs": [],
   "source": [
    "len(hidds)"
   ]
  },
  {
   "cell_type": "code",
   "execution_count": null,
   "metadata": {},
   "outputs": [],
   "source": [
    "print(\"labels_wall: \", np.sum(labels_wall))\n",
    "print(\"labels_zoa: \", np.sum(labels_zoa))\n",
    "print(\"labels_zoo: \", np.sum(labels_zoo))\n",
    "print(\"labels_zor: \", np.sum(labels_zor))\n",
    "print(\"labels_normal: \", np.sum(labels_normal))"
   ]
  },
  {
   "cell_type": "code",
   "execution_count": null,
   "metadata": {},
   "outputs": [],
   "source": [
    "plt.hist(labels_importance)"
   ]
  },
  {
   "cell_type": "code",
   "execution_count": null,
   "metadata": {},
   "outputs": [],
   "source": [
    "plt.hist(labels_wall)"
   ]
  },
  {
   "cell_type": "code",
   "execution_count": null,
   "metadata": {},
   "outputs": [],
   "source": [
    "plt.hist(labels_zoa)"
   ]
  },
  {
   "cell_type": "code",
   "execution_count": null,
   "metadata": {},
   "outputs": [],
   "source": [
    "plt.hist(labels_zoo)"
   ]
  },
  {
   "cell_type": "code",
   "execution_count": null,
   "metadata": {},
   "outputs": [],
   "source": [
    "plt.hist(labels_zor)"
   ]
  },
  {
   "cell_type": "code",
   "execution_count": null,
   "metadata": {},
   "outputs": [],
   "source": [
    "x = np.arange(4)\n",
    "money = np.histogram(labels_importance, bins= [0, 1, 2, 3, 4])[0]\n",
    "\n",
    "\n",
    "def millions(x, pos):\n",
    "    'The two args are the value and tick position'\n",
    "    return '$%1.1fM' % (x * 1e-6)\n",
    "\n",
    "\n",
    "#formatter = FuncFormatter(millions)\n",
    "\n",
    "fig, ax = plt.subplots()\n",
    "#ax.yaxis.set_major_formatter(formatter)\n",
    "plt.bar(x, money)\n",
    "plt.xticks(x, ('zor', 'zoo', 'zoa', 'avoid wall'))\n",
    "plt.show()"
   ]
  },
  {
   "cell_type": "code",
   "execution_count": null,
   "metadata": {},
   "outputs": [],
   "source": [
    "hidds = np.asarray(hidds)\n",
    "labels = np.asarray(labels)\n",
    "labels_importance = np.asarray(labels_importance)\n",
    "labels_wall = np.asarray(labels_wall)\n",
    "labels_zoa = np.asarray(labels_zoa)\n",
    "labels_zoo = np.asarray(labels_zoo)\n",
    "labels_zor = np.asarray(labels_zor)\n",
    "labels_normal = np.asarray(labels_normal)\n",
    "print(hidds.shape)\n",
    "print(labels.shape)"
   ]
  },
  {
   "cell_type": "code",
   "execution_count": null,
   "metadata": {},
   "outputs": [],
   "source": [
    "#from sklearn.manifold import TSNE\n",
    "#https://github.com/DmitryUlyanov/Multicore-TSNE}\n",
    "from MulticoreTSNE import MulticoreTSNE as TSNE\n",
    "\n",
    "X_embedded = TSNE(n_components=2, perplexity = 50).fit_transform(hidds)\n",
    "X_embedded.shape"
   ]
  },
  {
   "cell_type": "code",
   "execution_count": null,
   "metadata": {},
   "outputs": [],
   "source": [
    "from matplotlib.ticker import NullFormatter\n",
    "\n",
    "perplexities = [0, 5, 30, 50, 100]\n",
    "(fig, subplots) = plt.subplots(3, 2, figsize=(11, 13))\n",
    "\n",
    "fig.subplots_adjust(wspace=0.02, hspace=0.02)\n",
    "\n",
    "ax = subplots[0, 0]\n",
    "#ax.set_title(\"Perplexity=%d\" % perplexity)\n",
    "colors = ['whitesmoke', 'black']\n",
    "ax.scatter(X_embedded[:, 0], X_embedded[:, 1], c=np.round(labels_normal), cmap=matplotlib.colors.ListedColormap(colors), s=0.01)\n",
    "black_patch = mpatches.Patch(color='black', label='normal walk')\n",
    "ax.legend(handles=[black_patch])\n",
    "ax.xaxis.set_major_formatter(NullFormatter())\n",
    "ax.yaxis.set_major_formatter(NullFormatter())\n",
    "ax.axis('tight')\n",
    "\n",
    "ax = subplots[0, 1]\n",
    "colors = ['whitesmoke', 'gray']\n",
    "ax.scatter(X_embedded[:, 0], X_embedded[:, 1], c=np.round(labels_wall), cmap=matplotlib.colors.ListedColormap(colors), s=0.01)\n",
    "gray_patch = mpatches.Patch(color='gray', label='avoid wall')\n",
    "ax.legend(handles=[gray_patch])\n",
    "ax.xaxis.set_major_formatter(NullFormatter())\n",
    "ax.yaxis.set_major_formatter(NullFormatter())\n",
    "ax.axis('tight')\n",
    "\n",
    "\n",
    "ax = subplots[1, 0]\n",
    "colors = ['whitesmoke', 'red']\n",
    "ax.scatter(X_embedded[:, 0], X_embedded[:, 1], c=np.round(labels_zor), cmap=matplotlib.colors.ListedColormap(colors), s=0.01)\n",
    "red_patch = mpatches.Patch(color='red', label='zor')\n",
    "ax.legend(handles=[red_patch])\n",
    "ax.xaxis.set_major_formatter(NullFormatter())\n",
    "ax.yaxis.set_major_formatter(NullFormatter())\n",
    "ax.axis('tight')\n",
    "\n",
    "\n",
    "\n",
    "ax = subplots[1, 1]\n",
    "#ax.set_title(\"Perplexity=%d\" % perplexity)\n",
    "colors = ['whitesmoke', 'yellow']\n",
    "ax.scatter(X_embedded[:, 0], X_embedded[:, 1], c=np.round(labels_zoo), cmap=matplotlib.colors.ListedColormap(colors), s=0.01)\n",
    "yellow_patch = mpatches.Patch(color='yellow', label='zoo')\n",
    "ax.legend(handles=[yellow_patch])\n",
    "ax.xaxis.set_major_formatter(NullFormatter())\n",
    "ax.yaxis.set_major_formatter(NullFormatter())\n",
    "ax.axis('tight')\n",
    "\n",
    "\n",
    "ax = subplots[2, 0]\n",
    "#ax.set_title(\"Perplexity=%d\" % perplexity)\n",
    "colors = ['whitesmoke', 'blue']\n",
    "ax.scatter(X_embedded[:, 0], X_embedded[:, 1], c=np.round(labels_zoa), cmap=matplotlib.colors.ListedColormap(colors), s=0.01)\n",
    "blue_patch = mpatches.Patch(color='blue', label='zoa')\n",
    "ax.legend(handles=[blue_patch])\n",
    "ax.xaxis.set_major_formatter(NullFormatter())\n",
    "ax.yaxis.set_major_formatter(NullFormatter())\n",
    "ax.axis('tight')\n",
    "\n",
    "\n",
    "#TSNE single labels only\n",
    "\n",
    "\n",
    "ax = subplots[2, 1]\n",
    "#ax.set_title(\"Perplexity=%d\" % perplexity)\n",
    "colors = ['black', 'red', 'yellow', 'blue', 'gray', 'orange', 'pink', 'darkred', 'green', 'khaki', 'darkblue', 'white', 'orangered', 'purple', 'darkgreen',  'silver']\n",
    "#          0          1       2        3      4      5            6         7            8       9         10   11\n",
    "\n",
    "ax.scatter(X_embedded[:, 0], X_embedded[:, 1], c=np.round(labels), cmap=matplotlib.colors.ListedColormap(colors), s=0.01)\n",
    "ax.xaxis.set_major_formatter(NullFormatter())\n",
    "ax.yaxis.set_major_formatter(NullFormatter())\n",
    "ax.axis('tight')\n",
    "\n",
    "#ax = subplots[2, 1]\n",
    "#ax.set_title(\"Perplexity=%d\" % perplexity)\n",
    "#colors = ['gray']\n",
    "#ax.scatter(X_embedded[:, 0], X_embedded[:, 1], c=np.round(labels_importance), cmap=matplotlib.colors.ListedColormap(colors), s=0.03)\n",
    "#ax.xaxis.set_major_formatter(NullFormatter())\n",
    "#ax.yaxis.set_major_formatter(NullFormatter())\n",
    "#ax.axis('tight')\n"
   ]
  },
  {
   "cell_type": "code",
   "execution_count": null,
   "metadata": {},
   "outputs": [],
   "source": [
    "fig.savefig('couzin-tsneplots', pad_inches=0)"
   ]
  },
  {
   "cell_type": "code",
   "execution_count": null,
   "metadata": {},
   "outputs": [],
   "source": [
    "#TSNE single labels only\n",
    "\n",
    "import matplotlib\n",
    "import matplotlib.pyplot as plt\n",
    "import numpy as np\n",
    "import matplotlib.patches as mpatches\n",
    "\n",
    "colors = ['blue', 'green', 'cyan', 'red', 'black']\n",
    "\n",
    "\n",
    "fig = plt.figure(figsize=(10,10))\n",
    "plt.scatter(X_embedded[:, 0], X_embedded[:, 1], c=np.round(labels_importance), cmap=matplotlib.colors.ListedColormap(colors), s=0.03)\n",
    "blue_patch = mpatches.Patch(color='blue', label='zor')\n",
    "green_patch = mpatches.Patch(color='green', label='zoo')\n",
    "cyan_patch = mpatches.Patch(color='cyan', label='zoa')\n",
    "red_patch = mpatches.Patch(color='red', label='avoid wall')\n",
    "black_patch = mpatches.Patch(color='black', label='normal walk')\n",
    "plt.legend(handles=[red_patch, blue_patch, green_patch, cyan_patch, black_patch])\n"
   ]
  },
  {
   "cell_type": "code",
   "execution_count": null,
   "metadata": {},
   "outputs": [],
   "source": [
    "#TSNE single labels only\n",
    "\n",
    "import matplotlib\n",
    "import matplotlib.pyplot as plt\n",
    "import numpy as np\n",
    "import matplotlib.patches as mpatches\n",
    "\n",
    "colors = ['blue', 'green', 'cyan', 'red', 'black']\n",
    "\n",
    "\n",
    "fig = plt.figure(figsize=(10,10))\n",
    "plt.scatter(X_embedded[:, 0], X_embedded[:, 1], c=np.round(labels_importance), cmap=matplotlib.colors.ListedColormap(colors), s=0.03)\n",
    "blue_patch = mpatches.Patch(color='blue', label='zor')\n",
    "green_patch = mpatches.Patch(color='green', label='zoo')\n",
    "cyan_patch = mpatches.Patch(color='cyan', label='zoa')\n",
    "red_patch = mpatches.Patch(color='red', label='avoid wall')\n",
    "black_patch = mpatches.Patch(color='black', label='normal walk')\n",
    "plt.legend(handles=[red_patch, blue_patch, green_patch, cyan_patch, black_patch])\n",
    "#cb = plt.colorbar()"
   ]
  },
  {
   "cell_type": "code",
   "execution_count": null,
   "metadata": {},
   "outputs": [],
   "source": [
    "import matplotlib\n",
    "import matplotlib.pyplot as plt\n",
    "import numpy as np\n",
    "import matplotlib.patches as mpatches\n",
    "\n",
    "colors = ['gray', 'red']\n",
    "\n",
    "\n",
    "fig = plt.figure(figsize=(8,8))\n",
    "plt.scatter(X_embedded[:, 0], X_embedded[:, 1], c=np.round(labels_wall), cmap=matplotlib.colors.ListedColormap(colors), s=0.03)\n",
    "red_patch = mpatches.Patch(color='red', label='avoid wall')\n",
    "plt.legend(handles=[red_patch])\n",
    "#cb = plt.colorbar()"
   ]
  },
  {
   "cell_type": "code",
   "execution_count": null,
   "metadata": {},
   "outputs": [],
   "source": [
    "import matplotlib\n",
    "import matplotlib.pyplot as plt\n",
    "import numpy as np\n",
    "import matplotlib.patches as mpatches\n",
    "\n",
    "colors = ['gray', 'cyan']\n",
    "\n",
    "\n",
    "fig = plt.figure(figsize=(8,8))\n",
    "plt.scatter(X_embedded[:, 0], X_embedded[:, 1], c=np.round(labels_zoa), cmap=matplotlib.colors.ListedColormap(colors), s=0.03)\n",
    "cyan_patch = mpatches.Patch(color='cyan', label='zoa')\n",
    "plt.legend(handles=[cyan_patch])\n"
   ]
  },
  {
   "cell_type": "code",
   "execution_count": null,
   "metadata": {},
   "outputs": [],
   "source": [
    "import matplotlib\n",
    "import matplotlib.pyplot as plt\n",
    "import numpy as np\n",
    "import matplotlib.patches as mpatches\n",
    "\n",
    "colors = ['gray', 'green']\n",
    "\n",
    "\n",
    "fig = plt.figure(figsize=(8,8))\n",
    "plt.scatter(X_embedded[:, 0], X_embedded[:, 1], c=np.round(labels_zoo), cmap=matplotlib.colors.ListedColormap(colors), s=0.03)\n",
    "green_patch = mpatches.Patch(color='green', label='zoo')\n",
    "plt.legend(handles=[green_patch])\n",
    "#cb = plt.colorbar()"
   ]
  },
  {
   "cell_type": "code",
   "execution_count": null,
   "metadata": {},
   "outputs": [],
   "source": [
    "import matplotlib\n",
    "import matplotlib.pyplot as plt\n",
    "import numpy as np\n",
    "import matplotlib.patches as mpatches\n",
    "\n",
    "colors = ['gray', 'blue']\n",
    "\n",
    "\n",
    "fig = plt.figure(figsize=(8,8))\n",
    "plt.scatter(X_embedded[:, 0], X_embedded[:, 1], c=np.round(labels_zor), cmap=matplotlib.colors.ListedColormap(colors), s=0.03)\n",
    "blue_patch = mpatches.Patch(color='blue', label='zor')\n",
    "plt.legend(handles=[blue_patch])\n"
   ]
  },
  {
   "cell_type": "code",
   "execution_count": null,
   "metadata": {},
   "outputs": [],
   "source": [
    "import matplotlib\n",
    "import matplotlib.pyplot as plt\n",
    "import numpy as np\n",
    "import matplotlib.patches as mpatches\n",
    "\n",
    "colors = ['gray', 'black']\n",
    "\n",
    "\n",
    "fig = plt.figure(figsize=(8,8))\n",
    "plt.scatter(X_embedded[:, 0], X_embedded[:, 1], c=np.round(labels_normal), cmap=matplotlib.colors.ListedColormap(colors), s=0.3)\n",
    "black_patch = mpatches.Patch(color='black', label='normal walk')\n",
    "plt.legend(handles=[black_patch])\n"
   ]
  },
  {
   "cell_type": "markdown",
   "metadata": {},
   "source": [
    "# UMAP"
   ]
  },
  {
   "cell_type": "code",
   "execution_count": null,
   "metadata": {},
   "outputs": [],
   "source": [
    "import tables \n",
    "import numpy as np\n",
    "import torch\n",
    "from IPython.display import clear_output\n",
    "\n",
    "hdf5_file = tables.open_file('pathtofile.h5', mode='r')\n",
    "# features; 0: age; 1 bee_id; rest: normal data\n",
    "train = hdf5_file.root.train\n",
    "print(train.shape)\n",
    "hidds = []\n",
    "labels = []\n",
    "labels_importance = []\n",
    "labels_wall = []\n",
    "labels_zoa = []\n",
    "labels_zoo = []\n",
    "labels_zor = []\n",
    "printcounter = 0\n",
    "for i in range(0, 10000):\n",
    "    if (printcounter == 1000):\n",
    "        clear_output()\n",
    "        print('Progress report: ', i/100000)\n",
    "        printcounter = 0\n",
    "    printcounter += 1\n",
    "    batch_data = train[i, :, :]\n",
    "    label = batch_data[-1, :4]\n",
    "    #print(label)\n",
    "    #print(label[3])\n",
    "    p = 1 \n",
    "    if p >= np.random.uniform(0.0, 1.0):\n",
    "        batch_X = batch_data[:-1, 10:].astype(np.float32)[None, :, :]\n",
    "        batch_X = np.insert(batch_X,[1],batch_X[0],axis=0)\n",
    "        batch_X = torch.from_numpy(batch_X)\n",
    "        batch_X = torch.autograd.Variable(batch_X).cuda()\n",
    "        Y_predicted, hidden = rnn.forward(batch_X, verbose=False)\n",
    "        hidds.append(np.concatenate((hidden[0].data.cpu().numpy()[1, 0, :],hidden[1].data.cpu().numpy()[1, 0, :])))\n",
    "        if np.where(label == 1)[0].shape[0] > 1:\n",
    "            labels.append(np.where(label == 1)[0][1] + 1)\n",
    "        elif np.where(label == 1)[0].shape[0] > 0:\n",
    "            labels.append(np.where(label == 1)[0][0] + 1)\n",
    "        else:\n",
    "            labels.append(0)\n",
    "        #print(label)\n",
    "        if label[3] > 0:\n",
    "            labels_importance.append(3) #avoid wall\n",
    "        elif label[2] > 0:\n",
    "            labels_importance.append(2) #attraction zone filled\n",
    "        elif label[1] > 0:\n",
    "            labels_importance.append(1) #orientation zone\n",
    "        elif label[0]> 0:\n",
    "            labels_importance.append(0) #repulsion zone\n",
    "        else:\n",
    "            labels_importance.append(4) # no label -> normal walk\n",
    "            \n",
    "        #------------------------------------------------\n",
    "        labels_wall.append(label[3])\n",
    "        labels_zoa.append(label[2])\n",
    "        labels_zoo.append(label[1])\n",
    "        labels_zor.append(label[0])\n",
    "hdf5_file.close()"
   ]
  },
  {
   "cell_type": "code",
   "execution_count": null,
   "metadata": {},
   "outputs": [],
   "source": [
    "data = np.asarray(hidds)\n",
    "labels = np.asarray(labels)\n",
    "labels_importance = np.asarray(labels_importance)\n",
    "labels_wall = np.asarray(labels_wall)\n",
    "labels_zoa = np.asarray(labels_zoa)\n",
    "labels_zoo = np.asarray(labels_zoo)\n",
    "labels_zor = np.asarray(labels_zor)\n",
    "print(data.shape)\n",
    "print(labels.shape)"
   ]
  },
  {
   "cell_type": "code",
   "execution_count": null,
   "metadata": {},
   "outputs": [],
   "source": [
    "import umap\n",
    "\n",
    "reducer = umap.UMAP(n_neighbors=100, min_dist=0.5)"
   ]
  },
  {
   "cell_type": "code",
   "execution_count": null,
   "metadata": {},
   "outputs": [],
   "source": [
    "import warnings\n",
    "warnings.filterwarnings('ignore')"
   ]
  },
  {
   "cell_type": "code",
   "execution_count": null,
   "metadata": {},
   "outputs": [],
   "source": [
    "embedding = reducer.fit_transform(data)\n",
    "embedding.shape"
   ]
  },
  {
   "cell_type": "code",
   "execution_count": null,
   "metadata": {},
   "outputs": [],
   "source": [
    "colors = ['blue', 'green', 'cyan', 'red', 'black']\n",
    "\n",
    "\n",
    "fig, ax = plt.subplots(1, figsize=(14, 10))\n",
    "plt.scatter(embedding[:, 0], embedding[:, 1], c=labels_importance, cmap=matplotlib.colors.ListedColormap(colors), s=2)\n",
    "plt.gca().set_aspect('equal', 'datalim')\n",
    "blue_patch = mpatches.Patch(color='blue', label='zor')\n",
    "green_patch = mpatches.Patch(color='green', label='zoo')\n",
    "cyan_patch = mpatches.Patch(color='cyan', label='zoa')\n",
    "red_patch = mpatches.Patch(color='red', label='avoid wall')\n",
    "black_patch = mpatches.Patch(color='black', label='normal walk')\n",
    "plt.legend(handles=[red_patch, blue_patch, green_patch, cyan_patch, black_patch])\n",
    "plt.colorbar(boundaries=np.arange(6)-0.5).set_ticks(np.arange(5))\n",
    "\n",
    "\n",
    "plt.title('UMAP projection with normal Labels', fontsize=24);"
   ]
  },
  {
   "cell_type": "markdown",
   "metadata": {},
   "source": [
    "# UMAP WITH LABELS"
   ]
  },
  {
   "cell_type": "code",
   "execution_count": null,
   "metadata": {},
   "outputs": [],
   "source": [
    "import tables \n",
    "import numpy as np\n",
    "import torch\n",
    "from IPython.display import clear_output\n",
    "\n",
    "hdf5_file = tables.open_file('pathtofile.h5', mode='r')\n",
    "# features; 0: age; 1 bee_id; rest: normal data\n",
    "train = hdf5_file.root.train\n",
    "print(train.shape)\n",
    "hidds_test = []\n",
    "labels = []\n",
    "labels_importance_test = []\n",
    "labels_wall_test = []\n",
    "labels_zoa_test = []\n",
    "labels_zoo_test = []\n",
    "labels_zor_test = []\n",
    "printcounter = 0\n",
    "for i in range(0, 10000):\n",
    "    if (printcounter == 1000):\n",
    "        clear_output()\n",
    "        print('Progress report: ', i/100000)\n",
    "        printcounter = 0\n",
    "    printcounter += 1\n",
    "    batch_data = train[i, :, :]\n",
    "    label = batch_data[-1, :4]\n",
    "    #print(label)\n",
    "    #print(label[3])\n",
    "    p = 1 \n",
    "    if p >= np.random.uniform(0.0, 1.0):\n",
    "        batch_X = batch_data[:-1, 10:].astype(np.float32)[None, :, :]\n",
    "        batch_X = np.insert(batch_X,[1],batch_X[0],axis=0)\n",
    "        batch_X = torch.from_numpy(batch_X)\n",
    "        batch_X = torch.autograd.Variable(batch_X).cuda()\n",
    "        Y_predicted, hidden = rnn.forward(batch_X, verbose=False)\n",
    "        hidds_test.append(np.concatenate((hidden[0].data.cpu().numpy()[1, 0, :],hidden[1].data.cpu().numpy()[1, 0, :])))\n",
    "        if np.where(label == 1)[0].shape[0] > 1:\n",
    "            labels.append(np.where(label == 1)[0][1] + 1)\n",
    "        elif np.where(label == 1)[0].shape[0] > 0:\n",
    "            labels.append(np.where(label == 1)[0][0] + 1)\n",
    "        else:\n",
    "            labels.append(0)\n",
    "        #print(label)\n",
    "        if label[3] > 0:\n",
    "            labels_importance_test.append(3) #avoid wall\n",
    "        elif label[2] > 0:\n",
    "            labels_importance_test.append(2) #attraction zone filled\n",
    "        elif label[1] > 0:\n",
    "            labels_importance_test.append(1) #orientation zone\n",
    "        elif label[0]> 0:\n",
    "            labels_importance_test.append(0) #repulsion zone\n",
    "        else:\n",
    "            labels_importance_test.append(4) # no label -> normal walk\n",
    "            \n",
    "        #------------------------------------------------\n",
    "        labels_wall_test.append(label[3])\n",
    "        labels_zoa_test.append(label[2])\n",
    "        labels_zoo_test.append(label[1])\n",
    "        labels_zor_test.append(label[0])\n",
    "hdf5_file.close()"
   ]
  },
  {
   "cell_type": "code",
   "execution_count": null,
   "metadata": {},
   "outputs": [],
   "source": [
    "test_data = np.asarray(hidds_test)\n",
    "labels = np.asarray(labels)\n",
    "labels_importance_test = np.asarray(labels_importance_test)\n",
    "labels_wall_test = np.asarray(labels_wall_test)\n",
    "labels_zoa_test = np.asarray(labels_zoa_test)\n",
    "labels_zoo_test = np.asarray(labels_zoo_test)\n",
    "labels_zor_test = np.asarray(labels_zor_test)\n",
    "print(test_data.shape)\n",
    "print(labels_importance_test.shape)"
   ]
  },
  {
   "cell_type": "code",
   "execution_count": null,
   "metadata": {},
   "outputs": [],
   "source": [
    "#mapper = umap.UMAP(min_dist=1, n_neighbors=10).fit(data, y=labels_neighs_digitzized_test)\n",
    "mapper = umap.UMAP(n_neighbors=89, min_dist=0.5).fit(data, y=labels_importance)"
   ]
  },
  {
   "cell_type": "code",
   "execution_count": null,
   "metadata": {},
   "outputs": [],
   "source": [
    "test_embedding = mapper.transform(test_data)"
   ]
  },
  {
   "cell_type": "code",
   "execution_count": null,
   "metadata": {},
   "outputs": [],
   "source": [
    "colors = ['blue', 'green', 'cyan', 'red', 'black']"
   ]
  },
  {
   "cell_type": "code",
   "execution_count": null,
   "metadata": {},
   "outputs": [],
   "source": [
    "fig, ax = plt.subplots(1, figsize=(14, 10))\n",
    "plt.scatter(*mapper.embedding_.T, s=0.3, c=labels_importance, cmap=matplotlib.colors.ListedColormap(colors), alpha=1.0)\n",
    "plt.setp(ax, xticks=[], yticks=[])\n",
    "red_patch = mpatches.Patch(color='red', label='avoid wall')\n",
    "blue_patch = mpatches.Patch(color='blue', label='zor')\n",
    "green_patch = mpatches.Patch(color='green', label='zoo')\n",
    "cyan_patch = mpatches.Patch(color='cyan', label='zoa')\n",
    "plt.legend(handles=[red_patch, blue_patch, green_patch, cyan_patch])\n",
    "plt.title('Train Data Embedded via UMAP');"
   ]
  },
  {
   "cell_type": "code",
   "execution_count": null,
   "metadata": {},
   "outputs": [],
   "source": [
    "fig, ax = plt.subplots(1, figsize=(14, 10))\n",
    "plt.scatter(*test_embedding.T, s=0.3, c=labels_importance_test, cmap=matplotlib.colors.ListedColormap(colors), alpha=1.0)\n",
    "plt.setp(ax, xticks=[], yticks=[])\n",
    "red_patch = mpatches.Patch(color='red', label='avoid wall')\n",
    "blue_patch = mpatches.Patch(color='blue', label='zor')\n",
    "green_patch = mpatches.Patch(color='green', label='zoo')\n",
    "cyan_patch = mpatches.Patch(color='cyan', label='zoa')\n",
    "plt.legend(handles=[red_patch, blue_patch, green_patch, cyan_patch])\n",
    "plt.title('Data Embedded via UMAP');"
   ]
  },
  {
   "cell_type": "code",
   "execution_count": null,
   "metadata": {},
   "outputs": [],
   "source": [
    "from mpl_toolkits.mplot3d import axes3d, Axes3D \n",
    "\n",
    "fit = umap.UMAP(\n",
    "n_neighbors=89,\n",
    "min_dist= 0.7,\n",
    "n_components= 3\n",
    ")\n",
    "u = fit.fit_transform(data, y=labels_importance);"
   ]
  },
  {
   "cell_type": "code",
   "execution_count": null,
   "metadata": {},
   "outputs": [],
   "source": [
    "tu = fit.transform(test_data)"
   ]
  },
  {
   "cell_type": "code",
   "execution_count": null,
   "metadata": {},
   "outputs": [],
   "source": [
    "colors = ['blue', 'white', 'cyan', 'red', 'black']"
   ]
  },
  {
   "cell_type": "code",
   "execution_count": null,
   "metadata": {},
   "outputs": [],
   "source": [
    "fig = plt.figure(figsize=(16, 12))\n",
    "ax = Axes3D(fig)\n",
    "#ax = fig.add_subplot(111, projection='3d')\n",
    "ax.scatter(u[:,0], u[:,1], u[:,2], c=labels_importance, cmap=matplotlib.colors.ListedColormap(colors), s=3, alpha = 1.0)\n",
    "plt.title(\"title\", fontsize=18)\n",
    "#ax.view_init(0, 0)\n"
   ]
  },
  {
   "cell_type": "code",
   "execution_count": null,
   "metadata": {},
   "outputs": [],
   "source": [
    "fig = plt.figure(figsize=(16, 12))\n",
    "ax = Axes3D(fig)\n",
    "#ax = fig.add_subplot(111, projection='3d')\n",
    "ax.scatter(tu[:,0], tu[:,1], tu[:,2], c=labels_importance_test, cmap=matplotlib.colors.ListedColormap(colors), s=3, alpha = 1.0)\n",
    "plt.title(\"title\", fontsize=18)\n",
    "#ax.view_init(0, 0)\n"
   ]
  },
  {
   "cell_type": "code",
   "execution_count": null,
   "metadata": {},
   "outputs": [],
   "source": [
    "fig = plt.figure(figsize=(16, 12))\n",
    "ax = Axes3D(fig)\n",
    "#ax = fig.add_subplot(111, projection='3d')\n",
    "ax.scatter(u[:,0], u[:,1], u[:,2], c=labels_importance, cmap=matplotlib.colors.ListedColormap(colors), s=3, alpha = 1.0)\n",
    "plt.title(\"title\", fontsize=18)\n",
    "ax.view_init(0, 20)\n",
    "\n",
    "    "
   ]
  },
  {
   "cell_type": "code",
   "execution_count": null,
   "metadata": {},
   "outputs": [],
   "source": [
    "fig = plt.figure(figsize=(16, 12))\n",
    "ax = Axes3D(fig)\n",
    "#ax = fig.add_subplot(111, projection='3d')\n",
    "ax.scatter(tu[:,0], tu[:,1], tu[:,2], c=labels_importance_test, cmap=matplotlib.colors.ListedColormap(colors), s=3, alpha = 1.0)\n",
    "plt.title(\"title\", fontsize=18)\n",
    "ax.view_init(0, 20)\n",
    "\n",
    "    "
   ]
  },
  {
   "cell_type": "code",
   "execution_count": null,
   "metadata": {},
   "outputs": [],
   "source": []
  },
  {
   "cell_type": "code",
   "execution_count": null,
   "metadata": {},
   "outputs": [],
   "source": [
    "fig, ax = plt.subplots(1, figsize=(14, 10))\n",
    "plt.scatter(*mapper.embedding_.T, s=0.3, c=labels_importance, cmap=matplotlib.colors.ListedColormap(colors), alpha=1.0)\n",
    "plt.setp(ax, xticks=[], yticks=[])\n",
    "red_patch = mpatches.Patch(color='red', label='avoid wall')\n",
    "blue_patch = mpatches.Patch(color='blue', label='zor')\n",
    "green_patch = mpatches.Patch(color='green', label='zoo')\n",
    "cyan_patch = mpatches.Patch(color='cyan', label='zoa')\n",
    "plt.legend(handles=[red_patch, blue_patch, green_patch, cyan_patch])\n",
    "plt.title('Train Data Embedded via UMAP');"
   ]
  },
  {
   "cell_type": "code",
   "execution_count": null,
   "metadata": {},
   "outputs": [],
   "source": []
  },
  {
   "cell_type": "code",
   "execution_count": null,
   "metadata": {},
   "outputs": [],
   "source": [
    "colors = ['gray', 'red']"
   ]
  },
  {
   "cell_type": "code",
   "execution_count": null,
   "metadata": {},
   "outputs": [],
   "source": [
    "#mapper = umap.UMAP(min_dist=1, n_neighbors=10).fit(data, y=labels_neighs_digitzized_test)\n",
    "mapper = umap.UMAP(n_neighbors=89, min_dist=0.5).fit(data, y=labels_wall)"
   ]
  },
  {
   "cell_type": "code",
   "execution_count": null,
   "metadata": {},
   "outputs": [],
   "source": [
    "test_embedding = mapper.transform(test_data)"
   ]
  },
  {
   "cell_type": "code",
   "execution_count": null,
   "metadata": {},
   "outputs": [],
   "source": [
    "fig, ax = plt.subplots(1, figsize=(14, 10))\n",
    "plt.scatter(*mapper.embedding_.T, s=0.2, c=labels_wall, cmap=matplotlib.colors.ListedColormap(colors), alpha=1.0)\n",
    "plt.setp(ax, xticks=[], yticks=[])\n",
    "red_patch = mpatches.Patch(color='red', label='avoid wall')\n",
    "plt.legend(handles=[red_patch])\n",
    "plt.title('Train Data Embedded via UMAP');"
   ]
  },
  {
   "cell_type": "code",
   "execution_count": null,
   "metadata": {},
   "outputs": [],
   "source": [
    "fig, ax = plt.subplots(1, figsize=(14, 10))\n",
    "plt.scatter(*test_embedding.T, s=0.2, c=labels_wall_test, cmap=matplotlib.colors.ListedColormap(colors), alpha=1.0)\n",
    "plt.setp(ax, xticks=[], yticks=[])\n",
    "red_patch = mpatches.Patch(color='red', label='avoid wall')\n",
    "plt.legend(handles=[red_patch])\n",
    "plt.title('Data Embedded via UMAP');"
   ]
  },
  {
   "cell_type": "code",
   "execution_count": null,
   "metadata": {},
   "outputs": [],
   "source": []
  },
  {
   "cell_type": "code",
   "execution_count": null,
   "metadata": {},
   "outputs": [],
   "source": [
    "colors = ['gray', 'blue']"
   ]
  },
  {
   "cell_type": "code",
   "execution_count": null,
   "metadata": {},
   "outputs": [],
   "source": [
    "#mapper = umap.UMAP(min_dist=1, n_neighbors=10).fit(data, y=labels_neighs_digitzized_test)\n",
    "mapper = umap.UMAP(n_neighbors=89, min_dist=0.5).fit(data, y=labels_zor)"
   ]
  },
  {
   "cell_type": "code",
   "execution_count": null,
   "metadata": {},
   "outputs": [],
   "source": [
    "test_embedding = mapper.transform(test_data)"
   ]
  },
  {
   "cell_type": "code",
   "execution_count": null,
   "metadata": {},
   "outputs": [],
   "source": [
    "fig, ax = plt.subplots(1, figsize=(14, 10))\n",
    "plt.scatter(*mapper.embedding_.T, s=0.2, c=labels_zor, cmap=matplotlib.colors.ListedColormap(colors), alpha=1.0)\n",
    "plt.setp(ax, xticks=[], yticks=[])\n",
    "blue_patch = mpatches.Patch(color='blue', label='zor')\n",
    "plt.legend(handles=[blue_patch])\n",
    "plt.title('Train Data Embedded via UMAP');"
   ]
  },
  {
   "cell_type": "code",
   "execution_count": null,
   "metadata": {},
   "outputs": [],
   "source": [
    "fig, ax = plt.subplots(1, figsize=(14, 10))\n",
    "plt.scatter(*test_embedding.T, s=0.2, c=labels_zor_test, cmap=matplotlib.colors.ListedColormap(colors), alpha=1.0)\n",
    "plt.setp(ax, xticks=[], yticks=[])\n",
    "blue_patch = mpatches.Patch(color='blue', label='zor')\n",
    "plt.legend(handles=[blue_patch])\n",
    "plt.title('Data Embedded via UMAP');"
   ]
  },
  {
   "cell_type": "code",
   "execution_count": null,
   "metadata": {},
   "outputs": [],
   "source": [
    "colors = ['gray', 'green']"
   ]
  },
  {
   "cell_type": "code",
   "execution_count": null,
   "metadata": {},
   "outputs": [],
   "source": [
    "#mapper = umap.UMAP(min_dist=1, n_neighbors=10).fit(data, y=labels_neighs_digitzized_test)\n",
    "mapper = umap.UMAP(n_neighbors=89, min_dist=0.5).fit(data, y=labels_zoo)"
   ]
  },
  {
   "cell_type": "code",
   "execution_count": null,
   "metadata": {},
   "outputs": [],
   "source": [
    "test_embedding = mapper.transform(test_data)"
   ]
  },
  {
   "cell_type": "code",
   "execution_count": null,
   "metadata": {},
   "outputs": [],
   "source": [
    "fig, ax = plt.subplots(1, figsize=(14, 10))\n",
    "plt.scatter(*mapper.embedding_.T, s=0.2, c=labels_zoo, cmap=matplotlib.colors.ListedColormap(colors), alpha=1.0)\n",
    "plt.setp(ax, xticks=[], yticks=[])\n",
    "green_patch = mpatches.Patch(color='green', label='zoo')\n",
    "plt.legend(handles=[green_patch])\n",
    "plt.title('Train Data Embedded via UMAP');"
   ]
  },
  {
   "cell_type": "code",
   "execution_count": null,
   "metadata": {},
   "outputs": [],
   "source": [
    "fig, ax = plt.subplots(1, figsize=(14, 10))\n",
    "plt.scatter(*test_embedding.T, s=0.2, c=labels_zoo_test, cmap=matplotlib.colors.ListedColormap(colors), alpha=1.0)\n",
    "plt.setp(ax, xticks=[], yticks=[])\n",
    "green_patch = mpatches.Patch(color='green', label='zoo')\n",
    "plt.legend(handles=[green_patch])\n",
    "plt.title('Data Embedded via UMAP');"
   ]
  },
  {
   "cell_type": "code",
   "execution_count": null,
   "metadata": {},
   "outputs": [],
   "source": []
  },
  {
   "cell_type": "code",
   "execution_count": null,
   "metadata": {},
   "outputs": [],
   "source": [
    "colors = ['gray', 'cyan']"
   ]
  },
  {
   "cell_type": "code",
   "execution_count": null,
   "metadata": {},
   "outputs": [],
   "source": [
    "#mapper = umap.UMAP(min_dist=1, n_neighbors=10).fit(data, y=labels_neighs_digitzized_test)\n",
    "mapper = umap.UMAP(n_neighbors=89, min_dist=0.5).fit(data, y=labels_zoa)"
   ]
  },
  {
   "cell_type": "code",
   "execution_count": null,
   "metadata": {},
   "outputs": [],
   "source": [
    "test_embedding = mapper.transform(test_data)"
   ]
  },
  {
   "cell_type": "code",
   "execution_count": null,
   "metadata": {},
   "outputs": [],
   "source": [
    "fig, ax = plt.subplots(1, figsize=(14, 10))\n",
    "plt.scatter(*mapper.embedding_.T, s=0.2, c=labels_zoa, cmap=matplotlib.colors.ListedColormap(colors), alpha=1.0)\n",
    "plt.setp(ax, xticks=[], yticks=[])\n",
    "cyan_patch = mpatches.Patch(color='cyan', label='zoa')\n",
    "plt.legend(handles=[cyan_patch])\n",
    "plt.title('Train Data Embedded via UMAP');"
   ]
  },
  {
   "cell_type": "code",
   "execution_count": null,
   "metadata": {},
   "outputs": [],
   "source": [
    "fig, ax = plt.subplots(1, figsize=(14, 10))\n",
    "plt.scatter(*test_embedding.T, s=0.2, c=labels_zoa_test, cmap=matplotlib.colors.ListedColormap(colors), alpha=1.0)\n",
    "plt.setp(ax, xticks=[], yticks=[])\n",
    "cyan_patch = mpatches.Patch(color='cyan', label='zoa')\n",
    "plt.legend(handles=[cyan_patch])\n",
    "plt.title('Data Embedded via UMAP');"
   ]
  },
  {
   "cell_type": "code",
   "execution_count": null,
   "metadata": {},
   "outputs": [],
   "source": []
  },
  {
   "cell_type": "code",
   "execution_count": null,
   "metadata": {},
   "outputs": [],
   "source": []
  },
  {
   "cell_type": "code",
   "execution_count": null,
   "metadata": {},
   "outputs": [],
   "source": [
    "import tables \n",
    "import numpy as np\n",
    "import torch\n",
    "from IPython.display import clear_output\n",
    "\n",
    "hdf5_file = tables.open_file('pathtofile.h5', mode='r')\n",
    "# features; 0: age; 1 bee_id; rest: normal data\n",
    "train = hdf5_file.root.train\n",
    "print(train.shape)\n",
    "hidds = []\n",
    "hidds_only = []\n",
    "labels = []\n",
    "labels_importance = []\n",
    "labels_wall = []\n",
    "labels_zoa = []\n",
    "labels_zoo = []\n",
    "labels_zor = []\n",
    "labels_wall_only = []\n",
    "labels_zoa_only = []\n",
    "labels_zoo_only = []\n",
    "labels_zor_only = []\n",
    "labels_0__only = []\n",
    "labels_importance_only = []\n",
    "printcounter = 0\n",
    "for i in range(0, 100000):\n",
    "    if (printcounter == 1000):\n",
    "        clear_output()\n",
    "        print('Progress report: ', i/100000)\n",
    "        printcounter = 0\n",
    "    printcounter += 1\n",
    "    batch_data = train[i, :, :]\n",
    "    label = batch_data[-1, :4]\n",
    "    #print(label)\n",
    "    #print(label[3])\n",
    "    p = 1 \n",
    "    if p >= np.random.uniform(0.0, 1.0):\n",
    "        batch_X = batch_data[:-1, 10:].astype(np.float32)[None, :, :]\n",
    "        batch_X = np.insert(batch_X,[1],batch_X[0],axis=0)\n",
    "        batch_X = torch.from_numpy(batch_X)\n",
    "        batch_X = torch.autograd.Variable(batch_X).cuda()\n",
    "        Y_predicted, hidden = rnn.forward(batch_X, verbose=False)\n",
    "        hidds.append(np.concatenate((hidden[0].data.cpu().numpy()[1, 0, :],hidden[1].data.cpu().numpy()[1, 0, :])))\n",
    "        if np.where(label == 1)[0].shape[0] > 1:\n",
    "            labels.append(np.where(label == 1)[0][1] + 1)\n",
    "        elif np.where(label == 1)[0].shape[0] > 0:\n",
    "            labels.append(np.where(label == 1)[0][0] + 1)\n",
    "        else:\n",
    "            labels.append(0)\n",
    "        #print(label)\n",
    "        if label[3] > 0:\n",
    "            labels_importance.append(3) #avoid wall\n",
    "        elif label[2] > 0:\n",
    "            labels_importance.append(2) #attraction zone filled\n",
    "        elif label[1] > 0:\n",
    "            labels_importance.append(1) #orientation zone\n",
    "        elif label[0]> 0:\n",
    "            labels_importance.append(0) #repulsion zone\n",
    "        else:\n",
    "            labels_importance.append(4) # no label -> normal walk\n",
    "            \n",
    "        #------------------------------------------------\n",
    "        labels_wall.append(label[3])\n",
    "        labels_zoa.append(label[2])\n",
    "        labels_zoo.append(label[1])\n",
    "        labels_zor.append(label[0])\n",
    "        \n",
    "        if np.sum(label) <= 1:\n",
    "            hidds_only.append(np.concatenate((hidden[0].data.cpu().numpy()[1, 0, :],hidden[1].data.cpu().numpy()[1, 0, :])))\n",
    "            if np.array_equal(np.array(label), np.array([0,0,0,0])):\n",
    "                labels_0__only.append(1)\n",
    "            else:\n",
    "                labels_0__only.append(0)\n",
    "            labels_wall_only.append(label[3])\n",
    "            labels_zoa_only.append(label[2])\n",
    "            labels_zoo_only.append(label[1])\n",
    "            labels_zor_only.append(label[0])\n",
    "            \n",
    "            if label[3] > 0:\n",
    "                labels_importance_only.append(3) #avoid wall\n",
    "            elif label[2] > 0:\n",
    "                labels_importance_only.append(2) #attraction zone filled\n",
    "            elif label[1] > 0:\n",
    "                labels_importance_only.append(1) #orientation zone\n",
    "            elif label[0]> 0:\n",
    "                labels_importance_only.append(0) #repulsion zone\n",
    "            else:\n",
    "                labels_importance_only.append(4) # no label -> normal walk\n",
    "hdf5_file.close()"
   ]
  },
  {
   "cell_type": "code",
   "execution_count": null,
   "metadata": {},
   "outputs": [],
   "source": [
    "data = np.asarray(hidds)\n",
    "labels = np.asarray(labels)\n",
    "labels_importance = np.asarray(labels_importance)\n",
    "labels_wall = np.asarray(labels_wall)\n",
    "labels_zoa = np.asarray(labels_zoa)\n",
    "labels_zoo = np.asarray(labels_zoo)\n",
    "labels_zor = np.asarray(labels_zor)\n",
    "\n",
    "data_only = np.asarray(hidds_only)\n",
    "labels_wall_only = np.asarray(labels_wall_only)\n",
    "labels_zoa_only = np.asarray(labels_zoa_only)\n",
    "labels_zoo_only = np.asarray(labels_zoo_only)\n",
    "labels_zor_only = np.asarray(labels_zor_only)\n",
    "labels_importance_only = np.asarray(labels_importance_only)\n",
    "print(data.shape)\n",
    "print(labels.shape)"
   ]
  },
  {
   "cell_type": "code",
   "execution_count": null,
   "metadata": {},
   "outputs": [],
   "source": [
    "print(\"labels_wall: \", np.sum(labels_wall_only))\n",
    "print(\"labels_zoa: \", np.sum(labels_zoa_only))\n",
    "print(\"labels_zoo: \", np.sum(labels_zoo_only))\n",
    "print(\"labels_zor: \", np.sum(labels_zor_only))\n",
    "print(\"labels_importance_only: \", np.sum(labels_importance_only))"
   ]
  },
  {
   "cell_type": "code",
   "execution_count": null,
   "metadata": {},
   "outputs": [],
   "source": [
    "import tables \n",
    "import numpy as np\n",
    "import torch\n",
    "from IPython.display import clear_output\n",
    "\n",
    "hdf5_file = tables.open_file('pathtofile.h5', mode='r')\n",
    "# features; 0: age; 1 bee_id; rest: normal data\n",
    "train = hdf5_file.root.train\n",
    "print(train.shape)\n",
    "hidds_test = []\n",
    "hidds_only_test = []\n",
    "labels_test = []\n",
    "labels_importance_test = []\n",
    "labels_wall_test = []\n",
    "labels_zoa_test = []\n",
    "labels_zoo_test = []\n",
    "labels_zor_test = []\n",
    "labels_wall_only_test = []\n",
    "labels_zoa_only_test = []\n",
    "labels_zoo_only_test = []\n",
    "labels_zor_only_test = []\n",
    "labels_0__only_test = []\n",
    "labels_importance_only_test = []\n",
    "printcounter = 0\n",
    "for i in range(0, 100000):\n",
    "    if (printcounter == 1000):\n",
    "        clear_output()\n",
    "        print('Progress report: ', i/100000)\n",
    "        printcounter = 0\n",
    "    printcounter += 1\n",
    "    batch_data = train[i, :, :]\n",
    "    label = batch_data[-1, :4]\n",
    "    #print(label)\n",
    "    #print(label[3])\n",
    "    p = 1 \n",
    "    if p >= np.random.uniform(0.0, 1.0):\n",
    "        batch_X = batch_data[:-1, 10:].astype(np.float32)[None, :, :]\n",
    "        batch_X = np.insert(batch_X,[1],batch_X[0],axis=0)\n",
    "        batch_X = torch.from_numpy(batch_X)\n",
    "        batch_X = torch.autograd.Variable(batch_X).cuda()\n",
    "        Y_predicted, hidden = rnn.forward(batch_X, verbose=False)\n",
    "        hidds_test.append(np.concatenate((hidden[0].data.cpu().numpy()[1, 0, :],hidden[1].data.cpu().numpy()[1, 0, :])))\n",
    "        if np.where(label == 1)[0].shape[0] > 1:\n",
    "            labels_test.append(np.where(label == 1)[0][1] + 1)\n",
    "        elif np.where(label == 1)[0].shape[0] > 0:\n",
    "            labels_test.append(np.where(label == 1)[0][0] + 1)\n",
    "        else:\n",
    "            labels_test.append(0)\n",
    "        #print(label)\n",
    "        if label[3] > 0:\n",
    "            labels_importance_test.append(3) #avoid wall\n",
    "        elif label[2] > 0:\n",
    "            labels_importance_test.append(2) #attraction zone filled\n",
    "        elif label[1] > 0:\n",
    "            labels_importance_test.append(1) #orientation zone\n",
    "        elif label[0]> 0:\n",
    "            labels_importance_test.append(0) #repulsion zone\n",
    "        else:\n",
    "            labels_importance_test.append(4) # no label -> normal walk\n",
    "            \n",
    "        #------------------------------------------------\n",
    "        labels_wall_test.append(label[3])\n",
    "        labels_zoa_test.append(label[2])\n",
    "        labels_zoo_test.append(label[1])\n",
    "        labels_zor_test.append(label[0])\n",
    "        \n",
    "        if np.sum(label) <= 1:\n",
    "            hidds_only_test.append(np.concatenate((hidden[0].data.cpu().numpy()[1, 0, :],hidden[1].data.cpu().numpy()[1, 0, :])))\n",
    "            if np.array_equal(np.array(label), np.array([0,0,0,0])):\n",
    "                labels_0__only_test.append(1)\n",
    "            else:\n",
    "                labels_0__only_test.append(0)\n",
    "            labels_wall_only_test.append(label[3])\n",
    "            labels_zoa_only_test.append(label[2])\n",
    "            labels_zoo_only_test.append(label[1])\n",
    "            labels_zor_only_test.append(label[0])\n",
    "            \n",
    "            if label[3] > 0:\n",
    "                labels_importance_only_test.append(3) #avoid wall\n",
    "            elif label[2] > 0:\n",
    "                labels_importance_only_test.append(2) #attraction zone filled\n",
    "            elif label[1] > 0:\n",
    "                labels_importance_only_test.append(1) #orientation zone\n",
    "            elif label[0]> 0:\n",
    "                labels_importance_only_test.append(0) #repulsion zone\n",
    "            else:\n",
    "                labels_importance_only_test.append(4) # no label -> normal walk\n",
    "hdf5_file.close()"
   ]
  },
  {
   "cell_type": "code",
   "execution_count": null,
   "metadata": {},
   "outputs": [],
   "source": [
    "test_data = np.asarray(hidds_test)\n",
    "labels_test = np.asarray(labels)\n",
    "labels_importance_test = np.asarray(labels_importance_test)\n",
    "labels_wall_test = np.asarray(labels_wall_test)\n",
    "labels_zoa_test = np.asarray(labels_zoa_test)\n",
    "labels_zoo_test = np.asarray(labels_zoo_test)\n",
    "labels_zor_test = np.asarray(labels_zor_test)\n",
    "\n",
    "test_data_only = np.asarray(hidds_only_test)\n",
    "labels_importance_only_test = np.asarray(labels_importance_only_test)\n",
    "labels_wall_only_test = np.asarray(labels_wall_only_test)\n",
    "labels_zoa_only_test = np.asarray(labels_zoa_only_test)\n",
    "labels_zoo_only_test = np.asarray(labels_zoo_only_test)\n",
    "labels_zor_only_test = np.asarray(labels_zor_only_test)\n",
    "print(test_data.shape)\n",
    "print(labels_importance_test.shape)"
   ]
  },
  {
   "cell_type": "code",
   "execution_count": null,
   "metadata": {},
   "outputs": [],
   "source": [
    "#mapper = umap.UMAP(min_dist=1, n_neighbors=10).fit(data, y=labels_neighs_digitzized_test)\n",
    "mapper = umap.UMAP(n_neighbors=89, min_dist=0.5).fit(data_only, y=labels_importance_only)"
   ]
  },
  {
   "cell_type": "code",
   "execution_count": null,
   "metadata": {},
   "outputs": [],
   "source": [
    "test_embedding = mapper.transform(test_data_only)"
   ]
  },
  {
   "cell_type": "code",
   "execution_count": null,
   "metadata": {},
   "outputs": [],
   "source": [
    "colors = ['blue', 'green', 'cyan', 'red', 'black']"
   ]
  },
  {
   "cell_type": "code",
   "execution_count": null,
   "metadata": {},
   "outputs": [],
   "source": [
    "fig, ax = plt.subplots(1, figsize=(14, 10))\n",
    "plt.scatter(*mapper.embedding_.T, s=0.05, c=labels_importance_only, cmap=matplotlib.colors.ListedColormap(colors), alpha=1.0)\n",
    "plt.setp(ax, xticks=[], yticks=[])\n",
    "red_patch = mpatches.Patch(color='red', label='avoid wall')\n",
    "blue_patch = mpatches.Patch(color='blue', label='zor')\n",
    "green_patch = mpatches.Patch(color='green', label='zoo')\n",
    "cyan_patch = mpatches.Patch(color='cyan', label='zoa')\n",
    "plt.legend(handles=[red_patch, blue_patch, green_patch, cyan_patch])\n",
    "plt.title('Train Data Embedded via UMAP');"
   ]
  },
  {
   "cell_type": "code",
   "execution_count": null,
   "metadata": {},
   "outputs": [],
   "source": [
    "fig, ax = plt.subplots(1, figsize=(14, 10))\n",
    "plt.scatter(*test_embedding.T, s=0.3, c=labels_importance_only_test, cmap=matplotlib.colors.ListedColormap(colors), alpha=1.0)\n",
    "plt.setp(ax, xticks=[], yticks=[])\n",
    "red_patch = mpatches.Patch(color='red', label='avoid wall')\n",
    "blue_patch = mpatches.Patch(color='blue', label='zor')\n",
    "green_patch = mpatches.Patch(color='green', label='zoo')\n",
    "cyan_patch = mpatches.Patch(color='cyan', label='zoa')\n",
    "plt.legend(handles=[red_patch, blue_patch, green_patch, cyan_patch])\n",
    "plt.title('Data Embedded via UMAP');"
   ]
  },
  {
   "cell_type": "code",
   "execution_count": null,
   "metadata": {},
   "outputs": [],
   "source": [
    "#mapper = umap.UMAP(min_dist=1, n_neighbors=10).fit(data, y=labels_neighs_digitzized_test)\n",
    "mapper = umap.UMAP(n_neighbors=89, min_dist=0.5).fit(data_only, y=labels_wall_only)"
   ]
  },
  {
   "cell_type": "code",
   "execution_count": null,
   "metadata": {},
   "outputs": [],
   "source": [
    "test_embedding = mapper.transform(test_data_only)"
   ]
  },
  {
   "cell_type": "code",
   "execution_count": null,
   "metadata": {},
   "outputs": [],
   "source": [
    "colors = ['gray', 'red']"
   ]
  },
  {
   "cell_type": "code",
   "execution_count": null,
   "metadata": {},
   "outputs": [],
   "source": [
    "fig, ax = plt.subplots(1, figsize=(14, 10))\n",
    "plt.scatter(*mapper.embedding_.T, s=2, c=labels_wall_only, cmap=matplotlib.colors.ListedColormap(colors), alpha=1.0)\n",
    "plt.setp(ax, xticks=[], yticks=[])\n",
    "red_patch = mpatches.Patch(color='red', label='avoid wall')\n",
    "plt.legend(handles=[red_patch])\n",
    "plt.title('Train Data Embedded via UMAP');"
   ]
  },
  {
   "cell_type": "code",
   "execution_count": null,
   "metadata": {},
   "outputs": [],
   "source": [
    "fig, ax = plt.subplots(1, figsize=(14, 10))\n",
    "plt.scatter(*test_embedding.T, s=0.2, c=labels_wall_only_test, cmap=matplotlib.colors.ListedColormap(colors), alpha=1.0)\n",
    "plt.setp(ax, xticks=[], yticks=[])\n",
    "red_patch = mpatches.Patch(color='red', label='avoid wall')\n",
    "plt.legend(handles=[red_patch])\n",
    "plt.title('Data Embedded via UMAP');"
   ]
  },
  {
   "cell_type": "code",
   "execution_count": null,
   "metadata": {},
   "outputs": [],
   "source": [
    "colors = ['gray', 'blue']"
   ]
  },
  {
   "cell_type": "code",
   "execution_count": null,
   "metadata": {},
   "outputs": [],
   "source": [
    "fig, ax = plt.subplots(1, figsize=(14, 10))\n",
    "plt.scatter(*mapper.embedding_.T, s=0.2, c=labels_zor_only, cmap=matplotlib.colors.ListedColormap(colors), alpha=1.0)\n",
    "plt.setp(ax, xticks=[], yticks=[])\n",
    "blue_patch = mpatches.Patch(color='blue', label='zor')\n",
    "plt.legend(handles=[blue_patch])\n",
    "plt.title('Train Data Embedded via UMAP');"
   ]
  },
  {
   "cell_type": "code",
   "execution_count": null,
   "metadata": {},
   "outputs": [],
   "source": [
    "fig, ax = plt.subplots(1, figsize=(14, 10))\n",
    "plt.scatter(*test_embedding.T, s=0.2, c=labels_zor_only_test, cmap=matplotlib.colors.ListedColormap(colors), alpha=1.0)\n",
    "plt.setp(ax, xticks=[], yticks=[])\n",
    "blue_patch = mpatches.Patch(color='blue', label='zor')\n",
    "plt.legend(handles=[blue_patch])\n",
    "plt.title('Data Embedded via UMAP');"
   ]
  },
  {
   "cell_type": "code",
   "execution_count": null,
   "metadata": {},
   "outputs": [],
   "source": [
    "colors = ['gray', 'green']"
   ]
  },
  {
   "cell_type": "code",
   "execution_count": null,
   "metadata": {},
   "outputs": [],
   "source": [
    "fig, ax = plt.subplots(1, figsize=(14, 10))\n",
    "plt.scatter(*mapper.embedding_.T, s=0.2, c=labels_zoo_only, cmap=matplotlib.colors.ListedColormap(colors), alpha=1.0)\n",
    "plt.setp(ax, xticks=[], yticks=[])\n",
    "green_patch = mpatches.Patch(color='green', label='zoo')\n",
    "plt.legend(handles=[green_patch])\n",
    "plt.title('Train Data Embedded via UMAP');"
   ]
  },
  {
   "cell_type": "code",
   "execution_count": null,
   "metadata": {},
   "outputs": [],
   "source": [
    "fig, ax = plt.subplots(1, figsize=(14, 10))\n",
    "plt.scatter(*test_embedding.T, s=0.2, c=labels_zoo_only_test, cmap=matplotlib.colors.ListedColormap(colors), alpha=1.0)\n",
    "plt.setp(ax, xticks=[], yticks=[])\n",
    "green_patch = mpatches.Patch(color='green', label='zoo')\n",
    "plt.legend(handles=[green_patch])\n",
    "plt.title('Data Embedded via UMAP');"
   ]
  },
  {
   "cell_type": "code",
   "execution_count": null,
   "metadata": {},
   "outputs": [],
   "source": [
    "colors = ['gray', 'cyan']"
   ]
  },
  {
   "cell_type": "code",
   "execution_count": null,
   "metadata": {},
   "outputs": [],
   "source": [
    "fig, ax = plt.subplots(1, figsize=(14, 10))\n",
    "plt.scatter(*mapper.embedding_.T, s=0.2, c=labels_zoa_only, cmap=matplotlib.colors.ListedColormap(colors), alpha=1.0)\n",
    "plt.setp(ax, xticks=[], yticks=[])\n",
    "cyan_patch = mpatches.Patch(color='cyan', label='zoa')\n",
    "plt.legend(handles=[cyan_patch])\n",
    "plt.title('Train Data Embedded via UMAP');"
   ]
  },
  {
   "cell_type": "code",
   "execution_count": null,
   "metadata": {},
   "outputs": [],
   "source": [
    "fig, ax = plt.subplots(1, figsize=(14, 10))\n",
    "plt.scatter(*test_embedding.T, s=0.2, c=labels_zoa_only_test, cmap=matplotlib.colors.ListedColormap(colors), alpha=1.0)\n",
    "plt.setp(ax, xticks=[], yticks=[])\n",
    "cyan_patch = mpatches.Patch(color='cyan', label='zoa')\n",
    "plt.legend(handles=[cyan_patch])\n",
    "plt.title('Data Embedded via UMAP');"
   ]
  },
  {
   "cell_type": "code",
   "execution_count": null,
   "metadata": {},
   "outputs": [],
   "source": [
    "import tables \n",
    "import numpy as np\n",
    "import torch\n",
    "from IPython.display import clear_output\n",
    "\n",
    "hdf5_file = tables.open_file('pathtofile.h5', mode='r')\n",
    "# features; 0: age; 1 bee_id; rest: normal data\n",
    "train = hdf5_file.root.train\n",
    "print(train.shape)\n",
    "hidds = []\n",
    "labels = []\n",
    "printcounter = 0\n",
    "for i in range(0, 100000):\n",
    "    if (printcounter == 1000):\n",
    "        clear_output()\n",
    "        print('Progress report: ', i/100000)\n",
    "        printcounter = 0\n",
    "    printcounter += 1\n",
    "    batch_data = train[i, :, :]\n",
    "    label = batch_data[-1, :4]\n",
    "    #print(label)\n",
    "    #print(label[3])\n",
    "    p = 1 \n",
    "    if p >= np.random.uniform(0.0, 1.0):\n",
    "        batch_X = batch_data[:-1, 10:].astype(np.float32)[None, :, :]\n",
    "        batch_X = np.insert(batch_X,[1],batch_X[0],axis=0)\n",
    "        batch_X = torch.from_numpy(batch_X)\n",
    "        batch_X = torch.autograd.Variable(batch_X).cuda()\n",
    "        Y_predicted, hidden = rnn.forward(batch_X, verbose=False)\n",
    "        hidds.append(np.concatenate((hidden[0].data.cpu().numpy()[1, 0, :],hidden[1].data.cpu().numpy()[1, 0, :])))\n",
    "\n",
    "        if np.array_equal(label, np.array([0,0,0,0])):\n",
    "            labels.append(0)\n",
    "        elif np.array_equal(label, np.array([1,0,0,0])):\n",
    "            labels.append(1)\n",
    "        elif np.array_equal(label, np.array([0,1,0,0])):\n",
    "            labels.append(2)\n",
    "        elif np.array_equal(label, np.array([0,0,1,0])):\n",
    "            labels.append(3)\n",
    "        elif np.array_equal(label, np.array([0,0,0,1])):\n",
    "            labels.append(4)\n",
    "        elif np.array_equal(label, np.array([1,1,0,0])):\n",
    "            labels.append(5)\n",
    "        elif np.array_equal(label, np.array([1,0,1,0])):\n",
    "            labels.append(6)\n",
    "        elif np.array_equal(label, np.array([1,0,0,1])):\n",
    "            labels.append(7)\n",
    "        elif np.array_equal(label, np.array([0,1,1,0])):\n",
    "            labels.append(8)\n",
    "        elif np.array_equal(label, np.array([0,1,0,1])):\n",
    "            labels.append(9)\n",
    "        elif np.array_equal(label, np.array([0,0,1,1])):\n",
    "            labels.append(10) \n",
    "        elif np.array_equal(label, np.array([1,1,1,0])):\n",
    "            labels.append(11)\n",
    "        elif np.array_equal(label, np.array([1,1,0,1])):\n",
    "            labels.append(12)\n",
    "        elif np.array_equal(label, np.array([1,0,1,1])):\n",
    "            labels.append(13)\n",
    "        elif np.array_equal(label, np.array([0,1,1,1])):\n",
    "            labels.append(14)\n",
    "        elif np.array_equal(label, np.array([1,1,1,1])):\n",
    "            labels.append(15)\n",
    "        else:\n",
    "            print(\"NOOOO\")\n",
    "\n",
    "hdf5_file.close()"
   ]
  },
  {
   "cell_type": "code",
   "execution_count": null,
   "metadata": {},
   "outputs": [],
   "source": [
    "plt.hist(labels, range(0,17))\n",
    "plt.yscale('log')\n"
   ]
  },
  {
   "cell_type": "code",
   "execution_count": null,
   "metadata": {},
   "outputs": [],
   "source": [
    "colors = ['black', 'red', 'yellow', 'blue', 'gray', 'orange', 'pink', 'darkred', 'green', 'khaki', 'darkblue', 'ivory', 'orangered', 'purple', 'darkgreen',  'silver']\n"
   ]
  },
  {
   "cell_type": "code",
   "execution_count": null,
   "metadata": {},
   "outputs": [],
   "source": [
    "x = np.arange(16)\n",
    "money = np.histogram(labels, bins= np.arange(17))[0]\n",
    "\n",
    "\n",
    "#formatter = FuncFormatter(millions)\n",
    "\n",
    "fig, ax = plt.subplots(figsize=(12, 12), dpi=95)\n",
    "#ax.yaxis.set_major_formatter(formatter)\n",
    "plt.bar(x, money, color=colors)\n",
    "plt.yscale('log')\n",
    "plt.xticks(x, ('normal', 'zor', 'zoo', 'zoa', 'wall', '1100', '1010', '1001', '0110', '0101', '0011',\n",
    "               '1110', '1101', '1011', '0111', '1111'))\n",
    "plt.xlabel('Label combination of window')\n",
    "plt.ylabel('Number of windows')\n",
    "plt.show()"
   ]
  },
  {
   "cell_type": "code",
   "execution_count": null,
   "metadata": {},
   "outputs": [],
   "source": [
    "hidds = np.asarray(hidds)\n",
    "labels = np.asarray(labels)\n",
    "print(hidds.shape)\n",
    "print(labels.shape)"
   ]
  },
  {
   "cell_type": "code",
   "execution_count": null,
   "metadata": {},
   "outputs": [],
   "source": [
    "#from sklearn.manifold import TSNE\n",
    "#https://github.com/DmitryUlyanov/Multicore-TSNE}\n",
    "from MulticoreTSNE import MulticoreTSNE as TSNE\n",
    "\n",
    "X_embedded = TSNE(n_components=2, perplexity = 50).fit_transform(hidds)\n",
    "X_embedded.shape"
   ]
  },
  {
   "cell_type": "code",
   "execution_count": null,
   "metadata": {},
   "outputs": [],
   "source": [
    "#TSNE single labels only\n",
    "\n",
    "import matplotlib\n",
    "import matplotlib.pyplot as plt\n",
    "import numpy as np\n",
    "import matplotlib.patches as mpatches\n",
    "\n",
    "colors = ['black', 'red', 'yellow', 'blue', 'gray', 'orange', 'pink', 'darkred', 'green', 'khaki', 'darkblue', 'white', 'orangered', 'purple', 'darkgreen',  'silver']\n",
    "#          0          1       2        3      4      5            6         7            8       9         10   11\n",
    "\n",
    "fig = plt.figure(figsize=(20,20))\n",
    "#plt.scatter(X_embedded[:, 0], X_embedded[:, 1], c=np.round(labels), cmap=matplotlib.colors.ListedColormap(colors), s=0.3)\n",
    "plt.scatter(X_embedded[:, 0], X_embedded[:, 1], c=np.round(labels), cmap=matplotlib.colors.ListedColormap(colors), s=5)\n",
    "#cb = plt.colorbar()"
   ]
  },
  {
   "cell_type": "code",
   "execution_count": null,
   "metadata": {},
   "outputs": [],
   "source": [
    "#from sklearn.manifold import TSNE\n",
    "#https://github.com/DmitryUlyanov/Multicore-TSNE}\n",
    "from MulticoreTSNE import MulticoreTSNE as TSNE\n",
    "\n",
    "X_embedded = TSNE(n_components=2, perplexity = 97).fit_transform(hidds)\n",
    "X_embedded.shape"
   ]
  },
  {
   "cell_type": "code",
   "execution_count": null,
   "metadata": {},
   "outputs": [],
   "source": [
    "#TSNE single labels only\n",
    "\n",
    "import matplotlib\n",
    "import matplotlib.pyplot as plt\n",
    "import numpy as np\n",
    "import matplotlib.patches as mpatches\n",
    "\n",
    "colors = ['black', 'red', 'yellow', 'blue', 'gray', 'orange', 'pink', 'darkred', 'green', 'khaki', 'darkblue', 'white', 'orangered', 'purple', 'darkgreen',  'silver']\n",
    "#          0          1       2        3      4      5            6         7            8       9         10   11\n",
    "\n",
    "fig = plt.figure(figsize=(20,20))\n",
    "#plt.scatter(X_embedded[:, 0], X_embedded[:, 1], c=np.round(labels), cmap=matplotlib.colors.ListedColormap(colors), s=0.3)\n",
    "plt.scatter(X_embedded[:, 0], X_embedded[:, 1], c=np.round(labels), cmap=matplotlib.colors.ListedColormap(colors), s=0.75)\n",
    "#cb = plt.colorbar()"
   ]
  },
  {
   "cell_type": "code",
   "execution_count": null,
   "metadata": {},
   "outputs": [],
   "source": [
    "import tables \n",
    "import numpy as np\n",
    "import torch\n",
    "from IPython.display import clear_output\n",
    "\n",
    "hdf5_file = tables.open_file('/media/mehmed/ssd1tb/bb-predict-data/couzin_tsneumap_test.h5', mode='r')\n",
    "# features; 0: age; 1 bee_id; rest: normal data\n",
    "train = hdf5_file.root.train\n",
    "print(train.shape)\n",
    "hidds_test = []\n",
    "labels_test = []\n",
    "printcounter = 0\n",
    "for i in range(0, 100000):\n",
    "    if (printcounter == 1000):\n",
    "        clear_output()\n",
    "        print('Progress report: ', i/100000)\n",
    "        printcounter = 0\n",
    "    printcounter += 1\n",
    "    batch_data = train[i, :, :]\n",
    "    label = batch_data[-1, :4]\n",
    "    #print(label)\n",
    "    #print(label[3])\n",
    "    p = 1 \n",
    "    if p >= np.random.uniform(0.0, 1.0):\n",
    "        batch_X = batch_data[:-1, 10:].astype(np.float32)[None, :, :]\n",
    "        batch_X = np.insert(batch_X,[1],batch_X[0],axis=0)\n",
    "        batch_X = torch.from_numpy(batch_X)\n",
    "        batch_X = torch.autograd.Variable(batch_X).cuda()\n",
    "        Y_predicted, hidden = rnn.forward(batch_X, verbose=False)\n",
    "        hidds_test.append(np.concatenate((hidden[0].data.cpu().numpy()[1, 0, :],hidden[1].data.cpu().numpy()[1, 0, :])))\n",
    "\n",
    "        if np.array_equal(label, np.array([0,0,0,0])):\n",
    "            labels_test.append(0)\n",
    "        elif np.array_equal(label, np.array([1,0,0,0])):\n",
    "            labels_test.append(1)\n",
    "        elif np.array_equal(label, np.array([0,1,0,0])):\n",
    "            labels_test.append(2)\n",
    "        elif np.array_equal(label, np.array([0,0,1,0])):\n",
    "            labels_test.append(3)\n",
    "        elif np.array_equal(label, np.array([0,0,0,1])):\n",
    "            labels_test.append(4)\n",
    "        elif np.array_equal(label, np.array([1,1,0,0])):\n",
    "            labels_test.append(5)\n",
    "        elif np.array_equal(label, np.array([1,0,1,0])):\n",
    "            labels_test.append(6)\n",
    "        elif np.array_equal(label, np.array([1,0,0,1])):\n",
    "            labels_test.append(7)\n",
    "        elif np.array_equal(label, np.array([0,1,1,0])):\n",
    "            labels_test.append(8)\n",
    "        elif np.array_equal(label, np.array([0,1,0,1])):\n",
    "            labels_test.append(9)\n",
    "        elif np.array_equal(label, np.array([0,0,1,1])):\n",
    "            labels_test.append(10) \n",
    "        elif np.array_equal(label, np.array([1,1,1,0])):\n",
    "            labels_test.append(11)\n",
    "        elif np.array_equal(label, np.array([1,1,0,1])):\n",
    "            labels_test.append(12)\n",
    "        elif np.array_equal(label, np.array([1,0,1,1])):\n",
    "            labels_test.append(13)\n",
    "        elif np.array_equal(label, np.array([0,1,1,1])):\n",
    "            labels_test.append(14)\n",
    "        elif np.array_equal(label, np.array([1,1,1,1])):\n",
    "            labels_test.append(15)\n",
    "        else:\n",
    "            print(\"NOOOO\") \n",
    "hdf5_file.close()"
   ]
  },
  {
   "cell_type": "code",
   "execution_count": null,
   "metadata": {},
   "outputs": [],
   "source": [
    "test_data = np.asarray(hidds_test)\n",
    "labels_test = np.asarray(labels_test)\n",
    "\n",
    "print(test_data.shape)\n",
    "print(labels_test.shape)"
   ]
  },
  {
   "cell_type": "code",
   "execution_count": null,
   "metadata": {},
   "outputs": [],
   "source": [
    "import umap"
   ]
  },
  {
   "cell_type": "code",
   "execution_count": null,
   "metadata": {},
   "outputs": [],
   "source": [
    "#mapper = umap.UMAP(min_dist=1, n_neighbors=10).fit(data, y=labels_neighs_digitzized_test)\n",
    "mapper = umap.UMAP(n_neighbors=89, min_dist=0.5).fit(hidds, y=labels)"
   ]
  },
  {
   "cell_type": "code",
   "execution_count": null,
   "metadata": {},
   "outputs": [],
   "source": [
    "test_embedding = mapper.transform(test_data)"
   ]
  },
  {
   "cell_type": "code",
   "execution_count": null,
   "metadata": {},
   "outputs": [],
   "source": [
    "fig, ax = plt.subplots(1, figsize=(10, 10))\n",
    "plt.scatter(*mapper.embedding_.T, s=0.5, c=labels, cmap=matplotlib.colors.ListedColormap(colors), alpha=1.0)\n",
    "plt.setp(ax, xticks=[], yticks=[])\n",
    "#cb = plt.colorbar()\n",
    "plt.title('Train data embedded via UMAP');"
   ]
  },
  {
   "cell_type": "code",
   "execution_count": null,
   "metadata": {},
   "outputs": [],
   "source": [
    "fig, ax = plt.subplots(1, figsize=(10, 10))\n",
    "plt.scatter(*test_embedding.T, s=0.5, c=labels_test, cmap=matplotlib.colors.ListedColormap(colors), alpha=1.0)\n",
    "plt.setp(ax, xticks=[], yticks=[])\n",
    "#cb = plt.colorbar()\n",
    "plt.title('Test data embedded via UMAP');"
   ]
  },
  {
   "cell_type": "code",
   "execution_count": null,
   "metadata": {},
   "outputs": [],
   "source": [
    "from matplotlib.ticker import NullFormatter\n",
    "\n",
    "perplexities = [0, 5, 30, 50, 100]\n",
    "(fig, subplots) = plt.subplots(1, 2, figsize=(20, 10))\n",
    "\n",
    "fig.subplots_adjust(wspace=0.02, hspace=0.02)\n",
    "\n",
    "ax = subplots[0]\n",
    "#ax.set_title(\"Perplexity=%d\" % perplexity)\n",
    "ax.scatter(*mapper.embedding_.T, s=0.5, c=labels, cmap=matplotlib.colors.ListedColormap(colors), alpha=1.0)\n",
    "#cb = plt.colorbar()\n",
    "ax.set_title('Train data embedded via UMAP')\n",
    "ax.xaxis.set_major_formatter(NullFormatter())\n",
    "ax.yaxis.set_major_formatter(NullFormatter())\n",
    "ax.axis('tight')\n",
    "\n",
    "ax = subplots[1]\n",
    "ax.scatter(*test_embedding.T, s=0.5, c=labels_test, cmap=matplotlib.colors.ListedColormap(colors), alpha=1.0)\n",
    "ax.set_title('Test data embedded via UMAP')\n",
    "ax.xaxis.set_major_formatter(NullFormatter())\n",
    "ax.yaxis.set_major_formatter(NullFormatter())\n",
    "ax.axis('tight')\n",
    "\n"
   ]
  },
  {
   "cell_type": "code",
   "execution_count": null,
   "metadata": {},
   "outputs": [],
   "source": []
  },
  {
   "cell_type": "code",
   "execution_count": null,
   "metadata": {},
   "outputs": [],
   "source": []
  }
 ],
 "metadata": {
  "kernelspec": {
   "display_name": "Python 3",
   "language": "python",
   "name": "python3"
  },
  "language_info": {
   "codemirror_mode": {
    "name": "ipython",
    "version": 3
   },
   "file_extension": ".py",
   "mimetype": "text/x-python",
   "name": "python",
   "nbconvert_exporter": "python",
   "pygments_lexer": "ipython3",
   "version": "3.5.2"
  }
 },
 "nbformat": 4,
 "nbformat_minor": 2
}
